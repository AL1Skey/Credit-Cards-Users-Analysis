{
 "cells": [
  {
   "cell_type": "markdown",
   "metadata": {},
   "source": [
    "# Bussiness Understanding"
   ]
  },
  {
   "cell_type": "markdown",
   "metadata": {},
   "source": [
    "### Problem Statement"
   ]
  },
  {
   "cell_type": "markdown",
   "metadata": {},
   "source": [
    "Bank memiliki pendapatan dari bunga yang didapat dari pengguna kartu kredit. Sebagai data analyst, saya ditugaskan untuk menganalisis Tingkat pengeluaran kreditor pertahun dari banyaknya transaksi yang ada dalam setahun."
   ]
  },
  {
   "cell_type": "markdown",
   "metadata": {},
   "source": [
    "### Pertanyaan"
   ]
  },
  {
   "cell_type": "markdown",
   "metadata": {},
   "source": [
    "1. Berapa banyak orang yang memiliki pendapatan lebih dari $120K?\n",
    "2. Berapa pendapatan setiap orang berdasarkan tingkat pendidikan?\n",
    "3. Apakah usia diatas 50 tahun kurang aktif dalam bertransaksi dibanding yang dibawahnya?\n",
    "4. Berapa perbandingan antara banyaknya Kreditor yang Aktif dan Kreditor yang keluar?\n",
    "5. Apakah Gender ada hubungannya dengan banyaknya transaksi?\n",
    "6. Berapa rata-rata pengeluaran kreditor satu tahun ini untuk golongan Uneducated(tidak terdidik) setelah outliernya dibersihkan?"
   ]
  },
  {
   "cell_type": "markdown",
   "metadata": {},
   "source": [
    "### SMART Statement"
   ]
  },
  {
   "cell_type": "markdown",
   "metadata": {},
   "source": [
    "- **Specific**: Mengetahui kalangan mana yang akan diberikan promosi\n",
    "- **Measurable**: Menghitung banyak kreditor yang memiliki pengeluaran dan pendapatan berdasarkan kalangan yang ditinjau\n",
    "- **Achievable**: Menghubungkan total transaksi dengan tingkat pendidikan, umur, dan gender berdasarkan pendapatan masing-masing\n",
    "- **Relevant**: Setelah diketahui, maka bank bisa mendapat target yang cocok untuk diberikan promosi\n",
    "- **Time-Bound**: Data yang diolah didapat setelah 1 sampai 3 bulan pengerjaan"
   ]
  },
  {
   "cell_type": "markdown",
   "metadata": {},
   "source": [
    "### Fokus Data"
   ]
  },
  {
   "cell_type": "markdown",
   "metadata": {},
   "source": [
    "- **Attrition_Flag**(Internal event (customer activity) variable - if the account is closed then 1 else 0)\n",
    "- **Customer_Age**(Customer's Age in Years)\n",
    "- **Gender**(M=Male, F=Female)\n",
    "- **Education_Level**\n",
    "- **Income_Category**()\n",
    "- **Total_Trans_Amt**(Total Transaction Amount (Last 12 months))\n",
    "- **Total_Trans_Ct**(Total Transaction Count (Last 12 months))"
   ]
  },
  {
   "cell_type": "markdown",
   "metadata": {},
   "source": [
    "# Data Loading"
   ]
  },
  {
   "cell_type": "markdown",
   "metadata": {},
   "source": [
    "Link datasample: https://www.kaggle.com/datasets/sakshigoyal7/credit-card-customers"
   ]
  },
  {
   "cell_type": "code",
   "execution_count": 305,
   "metadata": {},
   "outputs": [],
   "source": [
    "import pandas as pd\n",
    "import numpy as np\n",
    "from scipy import stats\n",
    "import seaborn as sns\n",
    "import streamlit as st\n",
    "import matplotlib.pyplot as plt"
   ]
  },
  {
   "cell_type": "markdown",
   "metadata": {},
   "source": [
    "### Pengambilan data"
   ]
  },
  {
   "cell_type": "code",
   "execution_count": 306,
   "metadata": {},
   "outputs": [
    {
     "name": "stdout",
     "output_type": "stream",
     "text": [
      "<class 'pandas.core.frame.DataFrame'>\n",
      "RangeIndex: 10127 entries, 0 to 10126\n",
      "Data columns (total 9 columns):\n",
      " #   Column           Non-Null Count  Dtype \n",
      "---  ------           --------------  ----- \n",
      " 0   CLIENTNUM        10127 non-null  int64 \n",
      " 1   Attrition_Flag   10127 non-null  object\n",
      " 2   Customer_Age     10127 non-null  int64 \n",
      " 3   Gender           10127 non-null  object\n",
      " 4   Education_Level  10127 non-null  object\n",
      " 5   Marital_Status   10127 non-null  object\n",
      " 6   Income_Category  10127 non-null  object\n",
      " 7   Total_Trans_Amt  10127 non-null  int64 \n",
      " 8   Total_Trans_Ct   10127 non-null  int64 \n",
      "dtypes: int64(4), object(5)\n",
      "memory usage: 712.2+ KB\n"
     ]
    },
    {
     "data": {
      "text/html": [
       "<div>\n",
       "<style scoped>\n",
       "    .dataframe tbody tr th:only-of-type {\n",
       "        vertical-align: middle;\n",
       "    }\n",
       "\n",
       "    .dataframe tbody tr th {\n",
       "        vertical-align: top;\n",
       "    }\n",
       "\n",
       "    .dataframe thead th {\n",
       "        text-align: right;\n",
       "    }\n",
       "</style>\n",
       "<table border=\"1\" class=\"dataframe\">\n",
       "  <thead>\n",
       "    <tr style=\"text-align: right;\">\n",
       "      <th></th>\n",
       "      <th>CLIENTNUM</th>\n",
       "      <th>Attrition_Flag</th>\n",
       "      <th>Customer_Age</th>\n",
       "      <th>Gender</th>\n",
       "      <th>Education_Level</th>\n",
       "      <th>Marital_Status</th>\n",
       "      <th>Income_Category</th>\n",
       "      <th>Total_Trans_Amt</th>\n",
       "      <th>Total_Trans_Ct</th>\n",
       "    </tr>\n",
       "  </thead>\n",
       "  <tbody>\n",
       "    <tr>\n",
       "      <th>0</th>\n",
       "      <td>768805383</td>\n",
       "      <td>Existing Customer</td>\n",
       "      <td>45</td>\n",
       "      <td>M</td>\n",
       "      <td>High School</td>\n",
       "      <td>Married</td>\n",
       "      <td>$60K - $80K</td>\n",
       "      <td>1144</td>\n",
       "      <td>42</td>\n",
       "    </tr>\n",
       "    <tr>\n",
       "      <th>1</th>\n",
       "      <td>818770008</td>\n",
       "      <td>Existing Customer</td>\n",
       "      <td>49</td>\n",
       "      <td>F</td>\n",
       "      <td>Graduate</td>\n",
       "      <td>Single</td>\n",
       "      <td>Less than $40K</td>\n",
       "      <td>1291</td>\n",
       "      <td>33</td>\n",
       "    </tr>\n",
       "    <tr>\n",
       "      <th>2</th>\n",
       "      <td>713982108</td>\n",
       "      <td>Existing Customer</td>\n",
       "      <td>51</td>\n",
       "      <td>M</td>\n",
       "      <td>Graduate</td>\n",
       "      <td>Married</td>\n",
       "      <td>$80K - $120K</td>\n",
       "      <td>1887</td>\n",
       "      <td>20</td>\n",
       "    </tr>\n",
       "    <tr>\n",
       "      <th>3</th>\n",
       "      <td>769911858</td>\n",
       "      <td>Existing Customer</td>\n",
       "      <td>40</td>\n",
       "      <td>F</td>\n",
       "      <td>High School</td>\n",
       "      <td>Unknown</td>\n",
       "      <td>Less than $40K</td>\n",
       "      <td>1171</td>\n",
       "      <td>20</td>\n",
       "    </tr>\n",
       "    <tr>\n",
       "      <th>4</th>\n",
       "      <td>709106358</td>\n",
       "      <td>Existing Customer</td>\n",
       "      <td>40</td>\n",
       "      <td>M</td>\n",
       "      <td>Uneducated</td>\n",
       "      <td>Married</td>\n",
       "      <td>$60K - $80K</td>\n",
       "      <td>816</td>\n",
       "      <td>28</td>\n",
       "    </tr>\n",
       "  </tbody>\n",
       "</table>\n",
       "</div>"
      ],
      "text/plain": [
       "   CLIENTNUM     Attrition_Flag  Customer_Age Gender Education_Level  \\\n",
       "0  768805383  Existing Customer            45      M     High School   \n",
       "1  818770008  Existing Customer            49      F        Graduate   \n",
       "2  713982108  Existing Customer            51      M        Graduate   \n",
       "3  769911858  Existing Customer            40      F     High School   \n",
       "4  709106358  Existing Customer            40      M      Uneducated   \n",
       "\n",
       "  Marital_Status Income_Category  Total_Trans_Amt  Total_Trans_Ct  \n",
       "0        Married     $60K - $80K             1144              42  \n",
       "1         Single  Less than $40K             1291              33  \n",
       "2        Married    $80K - $120K             1887              20  \n",
       "3        Unknown  Less than $40K             1171              20  \n",
       "4        Married     $60K - $80K              816              28  "
      ]
     },
     "execution_count": 306,
     "metadata": {},
     "output_type": "execute_result"
    }
   ],
   "source": [
    "database = pd.read_csv('BankChurners.csv')[pd.read_csv('BankChurners.csv').columns[0:19]]\n",
    "deleted_col = [database.columns[4]]\n",
    "deleted_col.extend(database.columns[8:17])\n",
    "database.drop(columns=deleted_col,inplace=True)\n",
    "database.info()\n",
    "database.head()"
   ]
  },
  {
   "cell_type": "markdown",
   "metadata": {},
   "source": [
    "Data tidak memiliki nilai null dan memiliki 8 kolom dan 10127 baris"
   ]
  },
  {
   "cell_type": "markdown",
   "metadata": {},
   "source": [
    "### Menyimpan data yang akan diproses ke variable lain"
   ]
  },
  {
   "cell_type": "code",
   "execution_count": 307,
   "metadata": {},
   "outputs": [
    {
     "name": "stdout",
     "output_type": "stream",
     "text": [
      "<class 'pandas.core.frame.DataFrame'>\n",
      "RangeIndex: 10127 entries, 0 to 10126\n",
      "Data columns (total 9 columns):\n",
      " #   Column           Non-Null Count  Dtype \n",
      "---  ------           --------------  ----- \n",
      " 0   CLIENTNUM        10127 non-null  int64 \n",
      " 1   Attrition_Flag   10127 non-null  object\n",
      " 2   Customer_Age     10127 non-null  int64 \n",
      " 3   Gender           10127 non-null  object\n",
      " 4   Education_Level  10127 non-null  object\n",
      " 5   Marital_Status   10127 non-null  object\n",
      " 6   Income_Category  10127 non-null  object\n",
      " 7   Total_Trans_Amt  10127 non-null  int64 \n",
      " 8   Total_Trans_Ct   10127 non-null  int64 \n",
      "dtypes: int64(4), object(5)\n",
      "memory usage: 712.2+ KB\n"
     ]
    },
    {
     "data": {
      "text/html": [
       "<div>\n",
       "<style scoped>\n",
       "    .dataframe tbody tr th:only-of-type {\n",
       "        vertical-align: middle;\n",
       "    }\n",
       "\n",
       "    .dataframe tbody tr th {\n",
       "        vertical-align: top;\n",
       "    }\n",
       "\n",
       "    .dataframe thead th {\n",
       "        text-align: right;\n",
       "    }\n",
       "</style>\n",
       "<table border=\"1\" class=\"dataframe\">\n",
       "  <thead>\n",
       "    <tr style=\"text-align: right;\">\n",
       "      <th></th>\n",
       "      <th>CLIENTNUM</th>\n",
       "      <th>Attrition_Flag</th>\n",
       "      <th>Customer_Age</th>\n",
       "      <th>Gender</th>\n",
       "      <th>Education_Level</th>\n",
       "      <th>Marital_Status</th>\n",
       "      <th>Income_Category</th>\n",
       "      <th>Total_Trans_Amt</th>\n",
       "      <th>Total_Trans_Ct</th>\n",
       "    </tr>\n",
       "  </thead>\n",
       "  <tbody>\n",
       "    <tr>\n",
       "      <th>0</th>\n",
       "      <td>768805383</td>\n",
       "      <td>Existing Customer</td>\n",
       "      <td>45</td>\n",
       "      <td>M</td>\n",
       "      <td>High School</td>\n",
       "      <td>Married</td>\n",
       "      <td>$60K - $80K</td>\n",
       "      <td>1144</td>\n",
       "      <td>42</td>\n",
       "    </tr>\n",
       "    <tr>\n",
       "      <th>1</th>\n",
       "      <td>818770008</td>\n",
       "      <td>Existing Customer</td>\n",
       "      <td>49</td>\n",
       "      <td>F</td>\n",
       "      <td>Graduate</td>\n",
       "      <td>Single</td>\n",
       "      <td>Less than $40K</td>\n",
       "      <td>1291</td>\n",
       "      <td>33</td>\n",
       "    </tr>\n",
       "    <tr>\n",
       "      <th>2</th>\n",
       "      <td>713982108</td>\n",
       "      <td>Existing Customer</td>\n",
       "      <td>51</td>\n",
       "      <td>M</td>\n",
       "      <td>Graduate</td>\n",
       "      <td>Married</td>\n",
       "      <td>$80K - $120K</td>\n",
       "      <td>1887</td>\n",
       "      <td>20</td>\n",
       "    </tr>\n",
       "    <tr>\n",
       "      <th>3</th>\n",
       "      <td>769911858</td>\n",
       "      <td>Existing Customer</td>\n",
       "      <td>40</td>\n",
       "      <td>F</td>\n",
       "      <td>High School</td>\n",
       "      <td>Unknown</td>\n",
       "      <td>Less than $40K</td>\n",
       "      <td>1171</td>\n",
       "      <td>20</td>\n",
       "    </tr>\n",
       "    <tr>\n",
       "      <th>4</th>\n",
       "      <td>709106358</td>\n",
       "      <td>Existing Customer</td>\n",
       "      <td>40</td>\n",
       "      <td>M</td>\n",
       "      <td>Uneducated</td>\n",
       "      <td>Married</td>\n",
       "      <td>$60K - $80K</td>\n",
       "      <td>816</td>\n",
       "      <td>28</td>\n",
       "    </tr>\n",
       "  </tbody>\n",
       "</table>\n",
       "</div>"
      ],
      "text/plain": [
       "   CLIENTNUM     Attrition_Flag  Customer_Age Gender Education_Level  \\\n",
       "0  768805383  Existing Customer            45      M     High School   \n",
       "1  818770008  Existing Customer            49      F        Graduate   \n",
       "2  713982108  Existing Customer            51      M        Graduate   \n",
       "3  769911858  Existing Customer            40      F     High School   \n",
       "4  709106358  Existing Customer            40      M      Uneducated   \n",
       "\n",
       "  Marital_Status Income_Category  Total_Trans_Amt  Total_Trans_Ct  \n",
       "0        Married     $60K - $80K             1144              42  \n",
       "1         Single  Less than $40K             1291              33  \n",
       "2        Married    $80K - $120K             1887              20  \n",
       "3        Unknown  Less than $40K             1171              20  \n",
       "4        Married     $60K - $80K              816              28  "
      ]
     },
     "execution_count": 307,
     "metadata": {},
     "output_type": "execute_result"
    }
   ],
   "source": [
    "datawork = database.copy()\n",
    "datawork.info()\n",
    "datawork.head()"
   ]
  },
  {
   "cell_type": "markdown",
   "metadata": {},
   "source": [
    "# Data Cleaning"
   ]
  },
  {
   "cell_type": "markdown",
   "metadata": {},
   "source": [
    "### Format CLIENTNUM menjadi string"
   ]
  },
  {
   "cell_type": "code",
   "execution_count": 308,
   "metadata": {},
   "outputs": [
    {
     "name": "stdout",
     "output_type": "stream",
     "text": [
      "<class 'pandas.core.frame.DataFrame'>\n",
      "RangeIndex: 10127 entries, 0 to 10126\n",
      "Data columns (total 9 columns):\n",
      " #   Column           Non-Null Count  Dtype \n",
      "---  ------           --------------  ----- \n",
      " 0   CLIENTNUM        10127 non-null  object\n",
      " 1   Attrition_Flag   10127 non-null  object\n",
      " 2   Customer_Age     10127 non-null  int64 \n",
      " 3   Gender           10127 non-null  object\n",
      " 4   Education_Level  10127 non-null  object\n",
      " 5   Marital_Status   10127 non-null  object\n",
      " 6   Income_Category  10127 non-null  object\n",
      " 7   Total_Trans_Amt  10127 non-null  int64 \n",
      " 8   Total_Trans_Ct   10127 non-null  int64 \n",
      "dtypes: int64(3), object(6)\n",
      "memory usage: 712.2+ KB\n"
     ]
    }
   ],
   "source": [
    "datawork['CLIENTNUM'] = datawork['CLIENTNUM'].astype(str) \n",
    "datawork.info()"
   ]
  },
  {
   "cell_type": "markdown",
   "metadata": {},
   "source": [
    "### Penambahan data Total_Trans"
   ]
  },
  {
   "cell_type": "code",
   "execution_count": 309,
   "metadata": {},
   "outputs": [
    {
     "name": "stdout",
     "output_type": "stream",
     "text": [
      "<class 'pandas.core.frame.DataFrame'>\n",
      "RangeIndex: 10127 entries, 0 to 10126\n",
      "Data columns (total 10 columns):\n",
      " #   Column           Non-Null Count  Dtype \n",
      "---  ------           --------------  ----- \n",
      " 0   CLIENTNUM        10127 non-null  object\n",
      " 1   Attrition_Flag   10127 non-null  object\n",
      " 2   Customer_Age     10127 non-null  int64 \n",
      " 3   Gender           10127 non-null  object\n",
      " 4   Education_Level  10127 non-null  object\n",
      " 5   Marital_Status   10127 non-null  object\n",
      " 6   Income_Category  10127 non-null  object\n",
      " 7   Total_Trans_Amt  10127 non-null  int64 \n",
      " 8   Total_Trans_Ct   10127 non-null  int64 \n",
      " 9   Total_Trans      10127 non-null  int64 \n",
      "dtypes: int64(4), object(6)\n",
      "memory usage: 791.3+ KB\n"
     ]
    }
   ],
   "source": [
    "datawork['Total_Trans'] = datawork['Total_Trans_Amt'] * datawork['Total_Trans_Ct']\n",
    "datawork.info()"
   ]
  },
  {
   "cell_type": "markdown",
   "metadata": {},
   "source": [
    "# Visualisasi Data"
   ]
  },
  {
   "cell_type": "markdown",
   "metadata": {},
   "source": [
    "### Penampilan informasi data"
   ]
  },
  {
   "cell_type": "code",
   "execution_count": 310,
   "metadata": {},
   "outputs": [
    {
     "name": "stdout",
     "output_type": "stream",
     "text": [
      "<class 'pandas.core.frame.DataFrame'>\n",
      "RangeIndex: 10127 entries, 0 to 10126\n",
      "Data columns (total 10 columns):\n",
      " #   Column           Non-Null Count  Dtype \n",
      "---  ------           --------------  ----- \n",
      " 0   CLIENTNUM        10127 non-null  object\n",
      " 1   Attrition_Flag   10127 non-null  object\n",
      " 2   Customer_Age     10127 non-null  int64 \n",
      " 3   Gender           10127 non-null  object\n",
      " 4   Education_Level  10127 non-null  object\n",
      " 5   Marital_Status   10127 non-null  object\n",
      " 6   Income_Category  10127 non-null  object\n",
      " 7   Total_Trans_Amt  10127 non-null  int64 \n",
      " 8   Total_Trans_Ct   10127 non-null  int64 \n",
      " 9   Total_Trans      10127 non-null  int64 \n",
      "dtypes: int64(4), object(6)\n",
      "memory usage: 791.3+ KB\n"
     ]
    }
   ],
   "source": [
    "datawork.info()"
   ]
  },
  {
   "cell_type": "markdown",
   "metadata": {},
   "source": [
    "### Menvisualisasikan Banyaknya kreditor berdasarkan Income_Category"
   ]
  },
  {
   "cell_type": "markdown",
   "metadata": {},
   "source": [
    "#### Mengetahui banyak orang yang memiliki pendapatan lebih dari $120K"
   ]
  },
  {
   "cell_type": "code",
   "execution_count": 311,
   "metadata": {},
   "outputs": [
    {
     "data": {
      "text/plain": [
       "727"
      ]
     },
     "execution_count": 311,
     "metadata": {},
     "output_type": "execute_result"
    }
   ],
   "source": [
    "data = datawork.query(\"Income_Category == '$120K +'\")['Income_Category'].count()\n",
    "data"
   ]
  },
  {
   "cell_type": "markdown",
   "metadata": {},
   "source": [
    "Dari sini bisa diketahui bahwa banyak kreditor yang memiliki pendapatan lebih dari $120K ada 727 kreditor"
   ]
  },
  {
   "cell_type": "markdown",
   "metadata": {},
   "source": [
    "#### Visualisasi Data"
   ]
  },
  {
   "cell_type": "code",
   "execution_count": 312,
   "metadata": {},
   "outputs": [
    {
     "data": {
      "image/png": "[encoded data removed]",
      "text/plain": [
       "<Figure size 800x400 with 1 Axes>"
      ]
     },
     "metadata": {},
     "output_type": "display_data"
    }
   ],
   "source": [
    "# # plt.plot(datawork.groupby('Income_Category')['CLIENTNUM'].count())\n",
    "# fig, axes = plt.subplots(ncols=1,figsize=(8,4))\n",
    "# axes.bar(['Income_Category','Populasi'],datawork.groupby('Income_Category')['CLIENTNUM'].count().values(),width=0.4)\n",
    "# axes.set_title('Banyaknya populasi berdasarkan Income_Category')\n",
    "\n",
    "# plt.show()\n",
    "\n",
    "column = datawork['Income_Category'].unique()\n",
    "value = datawork.groupby('Income_Category')['CLIENTNUM'].count()\n",
    "value = [value[i] for i in column]\n",
    "\n",
    "fig, axes = plt.subplots(ncols=1,figsize=(8,4))\n",
    "axes.bar(column,value,width=0.4)\n",
    "axes.set_title('Banyaknya kreditor berdasarkan Income_Category')\n",
    "axes.set_xlabel('Income Category')\n",
    "axes.set_ylabel('Kreditor')\n",
    "\n",
    "plt.show()"
   ]
  },
  {
   "cell_type": "markdown",
   "metadata": {},
   "source": [
    "Dan Dari data ini, didapat bahwa Kreditor yang memiliki pendapatan kurang dari $40K lebih banyak dibanding kreditor yang memiliki pendapatan $120K +"
   ]
  },
  {
   "cell_type": "markdown",
   "metadata": {},
   "source": [
    "### Visualisasi pendapatan berdasarkan tingkat pendidikan"
   ]
  },
  {
   "cell_type": "code",
   "execution_count": 313,
   "metadata": {},
   "outputs": [
    {
     "name": "stderr",
     "output_type": "stream",
     "text": [
      "c:\\ProgramData\\miniconda3\\Lib\\site-packages\\seaborn\\_oldcore.py:1498: FutureWarning: is_categorical_dtype is deprecated and will be removed in a future version. Use isinstance(dtype, CategoricalDtype) instead\n",
      "  if pd.api.types.is_categorical_dtype(vector):\n",
      "c:\\ProgramData\\miniconda3\\Lib\\site-packages\\seaborn\\_oldcore.py:1498: FutureWarning: is_categorical_dtype is deprecated and will be removed in a future version. Use isinstance(dtype, CategoricalDtype) instead\n",
      "  if pd.api.types.is_categorical_dtype(vector):\n",
      "c:\\ProgramData\\miniconda3\\Lib\\site-packages\\seaborn\\_oldcore.py:1498: FutureWarning: is_categorical_dtype is deprecated and will be removed in a future version. Use isinstance(dtype, CategoricalDtype) instead\n",
      "  if pd.api.types.is_categorical_dtype(vector):\n",
      "c:\\ProgramData\\miniconda3\\Lib\\site-packages\\seaborn\\_oldcore.py:1498: FutureWarning: is_categorical_dtype is deprecated and will be removed in a future version. Use isinstance(dtype, CategoricalDtype) instead\n",
      "  if pd.api.types.is_categorical_dtype(vector):\n"
     ]
    },
    {
     "data": {
      "image/png": "[encoded data removed]",
      "text/plain": [
       "<Figure size 1100x700 with 1 Axes>"
      ]
     },
     "metadata": {},
     "output_type": "display_data"
    }
   ],
   "source": [
    "# Mengambil data yang diperlukan\n",
    "data_graph = datawork.groupby(['Education_Level', 'Income_Category'])['Income_Category'].count().reset_index(name='Kreditor')\n",
    "\n",
    "# Menginisialisasikan plot\n",
    "fig, axis = plt.subplots(figsize=(11,7))\n",
    "\n",
    "#Membuat graphis berdasarkan banyaknya Income Category\n",
    "sns.barplot(x='Education_Level', y='Kreditor', hue='Income_Category',data=data_graph,ax=axis)\n",
    "\n",
    "#Membuat Judul dan Label untuk X dan Y\n",
    "axis.set_xlabel('Education Level')\n",
    "axis.set_ylabel('Kreditor')\n",
    "axis.set_title('Visualisasi pendapatan berdasarkan tingkat pendidikan')\n",
    "\n",
    "#Mengatur Legenda\n",
    "axis.legend(title=\"Income Category\",loc='upper right')\n",
    "\n",
    "plt.tight_layout()\n",
    "plt.show()\n",
    "\n",
    "data_graph.to_csv('pendapatan berdasarkan tingkat pendidikan.csv',index=False)\n",
    "\n",
    "# fig, axes = plt.subplots(figsize=(10, 6))\n",
    "\n",
    "# education_levels = data_graph['Education_Level'].unique()\n",
    "# n_education_levels = len(education_levels)\n",
    "# bar_width = 0.15  # Width of each bar\n",
    "\n",
    "# x = np.arange(len(education_levels))\n",
    "\n",
    "# # Iterate over unique income categories\n",
    "# for i, income_category in enumerate(data_graph['Income_Category'].unique()):\n",
    "#     subset = data_graph[data_graph['Income_Category'] == income_category]\n",
    "#     populasi = subset['Populasi'].values\n",
    "#     bars = axes.bar(x + i * bar_width, populasi, bar_width, color=color[i], label=income_category)\n",
    "\n",
    "# axes.set_xlabel('Education Level')\n",
    "# axes.set_ylabel('Populasi')\n",
    "# axes.set_title('Visualisasi pendapatan berdasarkan tingkat pendidikan')\n",
    "# axes.set_xticks(x + bar_width * (n_education_levels - 1) / 2)\n",
    "# axes.set_xticklabels(education_levels)\n",
    "# axes.legend(title='Income Category', loc='upper right')\n",
    "\n",
    "# plt.tight_layout()\n",
    "# plt.show()\n",
    "\n",
    "# fig, axes = plt.subplots(ncols=1,figsize=(8,4))\n",
    "# axes.bar(column,value,width=0.4)\n",
    "# axes.set_title('Banyaknya populasi berdasarkan Income_Category')\n",
    "# axes.set_xlabel('Income_Category')\n",
    "# axes.set_ylabel('Education_Level')\n",
    "\n",
    "# plt.show()\n"
   ]
  },
  {
   "cell_type": "markdown",
   "metadata": {},
   "source": [
    "Dari sini, bisa ditarik kesimpulan bahwa Kreditor lebih banyak di tingkat pendidikan **Graduate** diikuti dengan **Lulusan SMA** dengan Pendapatan kurang dari $40K"
   ]
  },
  {
   "cell_type": "markdown",
   "metadata": {},
   "source": [
    "### Visualisasi Banyaknya Transaksi berdasarkan umur"
   ]
  },
  {
   "cell_type": "code",
   "execution_count": 314,
   "metadata": {},
   "outputs": [
    {
     "name": "stderr",
     "output_type": "stream",
     "text": [
      "c:\\ProgramData\\miniconda3\\Lib\\site-packages\\seaborn\\_oldcore.py:1498: FutureWarning: is_categorical_dtype is deprecated and will be removed in a future version. Use isinstance(dtype, CategoricalDtype) instead\n",
      "  if pd.api.types.is_categorical_dtype(vector):\n",
      "c:\\ProgramData\\miniconda3\\Lib\\site-packages\\seaborn\\_oldcore.py:1498: FutureWarning: is_categorical_dtype is deprecated and will be removed in a future version. Use isinstance(dtype, CategoricalDtype) instead\n",
      "  if pd.api.types.is_categorical_dtype(vector):\n",
      "c:\\ProgramData\\miniconda3\\Lib\\site-packages\\seaborn\\_oldcore.py:1119: FutureWarning: use_inf_as_na option is deprecated and will be removed in a future version. Convert inf values to NaN before operating instead.\n",
      "  with pd.option_context('mode.use_inf_as_na', True):\n",
      "c:\\ProgramData\\miniconda3\\Lib\\site-packages\\seaborn\\_oldcore.py:1119: FutureWarning: use_inf_as_na option is deprecated and will be removed in a future version. Convert inf values to NaN before operating instead.\n",
      "  with pd.option_context('mode.use_inf_as_na', True):\n"
     ]
    },
    {
     "data": {
      "image/png": "[encoded data removed]",
      "text/plain": [
       "<Figure size 1000x600 with 1 Axes>"
      ]
     },
     "metadata": {},
     "output_type": "display_data"
    }
   ],
   "source": [
    "#Mendapat data\n",
    "data_graph = datawork[['Customer_Age','Total_Trans_Ct']].copy().sort_values(by='Customer_Age')\n",
    "data_graph = data_graph.groupby('Customer_Age')['Total_Trans_Ct'].sum().reset_index(name='Total_Trans_Ct')\n",
    "\n",
    "#Pembuatan Grafis\n",
    "plt.figure(figsize=(10, 6))\n",
    "\n",
    "# Use Seaborn to create the line plot\n",
    "sns.lineplot(x='Customer_Age', y='Total_Trans_Ct', data=data_graph)\n",
    "\n",
    "# Set labels and title\n",
    "plt.xlabel('Customer_Age')\n",
    "plt.ylabel('Total_Trans_Ct')\n",
    "plt.title('Transaksi berdasarkan umur')\n",
    "plt.show()\n",
    "\n",
    "data_graph.to_csv('Transaksi berdasarkan umur.csv',index=False)\n",
    "\n",
    "# fig, ax = plt.subplots(figsize=(20,5))\n"
   ]
  },
  {
   "cell_type": "markdown",
   "metadata": {},
   "source": [
    "Dari sini, dapat ditarik kesimpulan bahwa puncak banyaknya transaksi tertinggi ada di antara umur 40 sampai 50 tahun dan banyaknya transaksi mengalami penurunan pada usia 50 tahun keatas"
   ]
  },
  {
   "cell_type": "markdown",
   "metadata": {},
   "source": [
    "### Memvisualisasikan perbandingan antara Kreditor yang Aktif dan Kreditor yang telah ditutup"
   ]
  },
  {
   "cell_type": "markdown",
   "metadata": {},
   "source": [
    "#### Menghitung perbandingan antara Kreditor yang Aktif dan Kreditor yang telah ditutup"
   ]
  },
  {
   "cell_type": "code",
   "execution_count": 315,
   "metadata": {},
   "outputs": [
    {
     "name": "stderr",
     "output_type": "stream",
     "text": [
      "c:\\ProgramData\\miniconda3\\Lib\\site-packages\\seaborn\\_oldcore.py:1498: FutureWarning: is_categorical_dtype is deprecated and will be removed in a future version. Use isinstance(dtype, CategoricalDtype) instead\n",
      "  if pd.api.types.is_categorical_dtype(vector):\n",
      "c:\\ProgramData\\miniconda3\\Lib\\site-packages\\seaborn\\_oldcore.py:1498: FutureWarning: is_categorical_dtype is deprecated and will be removed in a future version. Use isinstance(dtype, CategoricalDtype) instead\n",
      "  if pd.api.types.is_categorical_dtype(vector):\n",
      "c:\\ProgramData\\miniconda3\\Lib\\site-packages\\seaborn\\_oldcore.py:1498: FutureWarning: is_categorical_dtype is deprecated and will be removed in a future version. Use isinstance(dtype, CategoricalDtype) instead\n",
      "  if pd.api.types.is_categorical_dtype(vector):\n"
     ]
    },
    {
     "data": {
      "image/png": "[encoded data removed]",
      "text/plain": [
       "<Figure size 800x400 with 1 Axes>"
      ]
     },
     "metadata": {},
     "output_type": "display_data"
    }
   ],
   "source": [
    "data_graph = datawork.groupby(['Attrition_Flag'])['Attrition_Flag'].count().reset_index(name='Count')\n",
    "\n",
    "plt.figure(figsize=(8, 4))\n",
    "\n",
    "# Create a bar plot with Seaborn\n",
    "sns.barplot(x='Attrition_Flag', y='Count', data=data_graph, palette=\"viridis\")\n",
    "\n",
    "plt.title('Perbandingan antara Kreditor yang Aktif dan Kreditor yang telah ditutup')\n",
    "plt.xlabel('Status Kreditor')\n",
    "plt.ylabel('Count')\n",
    "\n",
    "plt.show()\n",
    "\n",
    "data_graph.to_csv('Status Kreditor.csv',index=False)"
   ]
  },
  {
   "cell_type": "markdown",
   "metadata": {},
   "source": [
    "Dari graphis tersebut, didapatkan bahwa kreditor keluar lebih sedikit dari kreditor yang masih aktif"
   ]
  },
  {
   "cell_type": "markdown",
   "metadata": {},
   "source": [
    "# Menganalisa Data"
   ]
  },
  {
   "cell_type": "markdown",
   "metadata": {},
   "source": [
    "### Menganalisa hubungan antara gender dengan banyaknya transaksi yang dilakukan"
   ]
  },
  {
   "cell_type": "markdown",
   "metadata": {},
   "source": [
    "##### Hipotesis\n",
    "\n",
    "Case: Hubungan Antara gender dengan banyaknya transaksi\n",
    "\n",
    "- H0: Tidak ada Hubungan antara gender dengan banyaknya transaksi yang dilakukan\n",
    "- H1: Adanya Hubungan antara gender dengan banyaknya transaksi yang dilakukan "
   ]
  },
  {
   "cell_type": "code",
   "execution_count": 316,
   "metadata": {},
   "outputs": [
    {
     "name": "stdout",
     "output_type": "stream",
     "text": [
      "<class 'pandas.core.frame.DataFrame'>\n",
      "RangeIndex: 10127 entries, 0 to 10126\n",
      "Data columns (total 10 columns):\n",
      " #   Column           Non-Null Count  Dtype \n",
      "---  ------           --------------  ----- \n",
      " 0   CLIENTNUM        10127 non-null  object\n",
      " 1   Attrition_Flag   10127 non-null  object\n",
      " 2   Customer_Age     10127 non-null  int64 \n",
      " 3   Gender           10127 non-null  object\n",
      " 4   Education_Level  10127 non-null  object\n",
      " 5   Marital_Status   10127 non-null  object\n",
      " 6   Income_Category  10127 non-null  object\n",
      " 7   Total_Trans_Amt  10127 non-null  int64 \n",
      " 8   Total_Trans_Ct   10127 non-null  int64 \n",
      " 9   Total_Trans      10127 non-null  int64 \n",
      "dtypes: int64(4), object(6)\n",
      "memory usage: 791.3+ KB\n"
     ]
    }
   ],
   "source": [
    "datawork.info()"
   ]
  },
  {
   "cell_type": "code",
   "execution_count": 317,
   "metadata": {},
   "outputs": [
    {
     "data": {
      "text/html": [
       "<div>\n",
       "<style scoped>\n",
       "    .dataframe tbody tr th:only-of-type {\n",
       "        vertical-align: middle;\n",
       "    }\n",
       "\n",
       "    .dataframe tbody tr th {\n",
       "        vertical-align: top;\n",
       "    }\n",
       "\n",
       "    .dataframe thead th {\n",
       "        text-align: right;\n",
       "    }\n",
       "</style>\n",
       "<table border=\"1\" class=\"dataframe\">\n",
       "  <thead>\n",
       "    <tr style=\"text-align: right;\">\n",
       "      <th></th>\n",
       "      <th>CLIENTNUM</th>\n",
       "      <th>Gender</th>\n",
       "      <th>Total_Trans_Ct</th>\n",
       "    </tr>\n",
       "  </thead>\n",
       "  <tbody>\n",
       "    <tr>\n",
       "      <th>0</th>\n",
       "      <td>768805383</td>\n",
       "      <td>M</td>\n",
       "      <td>42</td>\n",
       "    </tr>\n",
       "    <tr>\n",
       "      <th>1</th>\n",
       "      <td>818770008</td>\n",
       "      <td>F</td>\n",
       "      <td>33</td>\n",
       "    </tr>\n",
       "    <tr>\n",
       "      <th>2</th>\n",
       "      <td>713982108</td>\n",
       "      <td>M</td>\n",
       "      <td>20</td>\n",
       "    </tr>\n",
       "    <tr>\n",
       "      <th>3</th>\n",
       "      <td>769911858</td>\n",
       "      <td>F</td>\n",
       "      <td>20</td>\n",
       "    </tr>\n",
       "    <tr>\n",
       "      <th>4</th>\n",
       "      <td>709106358</td>\n",
       "      <td>M</td>\n",
       "      <td>28</td>\n",
       "    </tr>\n",
       "  </tbody>\n",
       "</table>\n",
       "</div>"
      ],
      "text/plain": [
       "   CLIENTNUM Gender  Total_Trans_Ct\n",
       "0  768805383      M              42\n",
       "1  818770008      F              33\n",
       "2  713982108      M              20\n",
       "3  769911858      F              20\n",
       "4  709106358      M              28"
      ]
     },
     "execution_count": 317,
     "metadata": {},
     "output_type": "execute_result"
    }
   ],
   "source": [
    "analys = datawork[['CLIENTNUM','Gender','Total_Trans_Ct']]\n",
    "analys.head()"
   ]
  },
  {
   "cell_type": "code",
   "execution_count": 318,
   "metadata": {},
   "outputs": [
    {
     "name": "stdout",
     "output_type": "stream",
     "text": [
      "p-value:1.2315934300257103e-34\n"
     ]
    }
   ],
   "source": [
    "crosstab = pd.crosstab(analys['Total_Trans_Ct'],analys['Gender'])\n",
    "res = stats.chi2_contingency(crosstab)\n",
    "print('p-value:%s'%(res.pvalue))"
   ]
  },
  {
   "cell_type": "markdown",
   "metadata": {},
   "source": [
    "Dari sini dikatakan bahwa p-value > 0.05 dengan p-value=1.2315934300257103e-34, maka bisa dikatakan bahwa banyaknya transaksi tidak ada hubungannya dengan gender"
   ]
  },
  {
   "cell_type": "markdown",
   "metadata": {},
   "source": [
    "### Menganalisa potensi pengeluaran kreditor dalam golongan tidak terdidik(Uneducated) "
   ]
  },
  {
   "cell_type": "markdown",
   "metadata": {},
   "source": [
    "#### Data Loading"
   ]
  },
  {
   "cell_type": "code",
   "execution_count": 319,
   "metadata": {},
   "outputs": [
    {
     "data": {
      "text/html": [
       "<div>\n",
       "<style scoped>\n",
       "    .dataframe tbody tr th:only-of-type {\n",
       "        vertical-align: middle;\n",
       "    }\n",
       "\n",
       "    .dataframe tbody tr th {\n",
       "        vertical-align: top;\n",
       "    }\n",
       "\n",
       "    .dataframe thead th {\n",
       "        text-align: right;\n",
       "    }\n",
       "</style>\n",
       "<table border=\"1\" class=\"dataframe\">\n",
       "  <thead>\n",
       "    <tr style=\"text-align: right;\">\n",
       "      <th></th>\n",
       "      <th>Education_Level</th>\n",
       "      <th>Total_Trans</th>\n",
       "    </tr>\n",
       "  </thead>\n",
       "  <tbody>\n",
       "    <tr>\n",
       "      <th>4</th>\n",
       "      <td>Uneducated</td>\n",
       "      <td>22848</td>\n",
       "    </tr>\n",
       "    <tr>\n",
       "      <th>8</th>\n",
       "      <td>Uneducated</td>\n",
       "      <td>32400</td>\n",
       "    </tr>\n",
       "    <tr>\n",
       "      <th>10</th>\n",
       "      <td>Uneducated</td>\n",
       "      <td>50442</td>\n",
       "    </tr>\n",
       "    <tr>\n",
       "      <th>28</th>\n",
       "      <td>Uneducated</td>\n",
       "      <td>18936</td>\n",
       "    </tr>\n",
       "    <tr>\n",
       "      <th>31</th>\n",
       "      <td>Uneducated</td>\n",
       "      <td>41496</td>\n",
       "    </tr>\n",
       "    <tr>\n",
       "      <th>...</th>\n",
       "      <td>...</td>\n",
       "      <td>...</td>\n",
       "    </tr>\n",
       "    <tr>\n",
       "      <th>10083</th>\n",
       "      <td>Uneducated</td>\n",
       "      <td>1765455</td>\n",
       "    </tr>\n",
       "    <tr>\n",
       "      <th>10085</th>\n",
       "      <td>Uneducated</td>\n",
       "      <td>2001287</td>\n",
       "    </tr>\n",
       "    <tr>\n",
       "      <th>10102</th>\n",
       "      <td>Uneducated</td>\n",
       "      <td>2054838</td>\n",
       "    </tr>\n",
       "    <tr>\n",
       "      <th>10115</th>\n",
       "      <td>Uneducated</td>\n",
       "      <td>1812452</td>\n",
       "    </tr>\n",
       "    <tr>\n",
       "      <th>10119</th>\n",
       "      <td>Uneducated</td>\n",
       "      <td>318477</td>\n",
       "    </tr>\n",
       "  </tbody>\n",
       "</table>\n",
       "<p>1487 rows × 2 columns</p>\n",
       "</div>"
      ],
      "text/plain": [
       "      Education_Level  Total_Trans\n",
       "4          Uneducated        22848\n",
       "8          Uneducated        32400\n",
       "10         Uneducated        50442\n",
       "28         Uneducated        18936\n",
       "31         Uneducated        41496\n",
       "...               ...          ...\n",
       "10083      Uneducated      1765455\n",
       "10085      Uneducated      2001287\n",
       "10102      Uneducated      2054838\n",
       "10115      Uneducated      1812452\n",
       "10119      Uneducated       318477\n",
       "\n",
       "[1487 rows x 2 columns]"
      ]
     },
     "execution_count": 319,
     "metadata": {},
     "output_type": "execute_result"
    }
   ],
   "source": [
    "data = datawork.query(\"Education_Level == 'Uneducated'\").copy()\n",
    "data['Total_Trans'] = data['Total_Trans_Amt'] * data['Total_Trans_Ct']\n",
    "data = data[['Education_Level','Total_Trans']].copy()\n",
    "data"
   ]
  },
  {
   "cell_type": "markdown",
   "metadata": {},
   "source": [
    "### Pencarian Central Tendency"
   ]
  },
  {
   "cell_type": "code",
   "execution_count": 320,
   "metadata": {},
   "outputs": [
    {
     "data": {
      "text/html": [
       "<div>\n",
       "<style scoped>\n",
       "    .dataframe tbody tr th:only-of-type {\n",
       "        vertical-align: middle;\n",
       "    }\n",
       "\n",
       "    .dataframe tbody tr th {\n",
       "        vertical-align: top;\n",
       "    }\n",
       "\n",
       "    .dataframe thead th {\n",
       "        text-align: right;\n",
       "    }\n",
       "</style>\n",
       "<table border=\"1\" class=\"dataframe\">\n",
       "  <thead>\n",
       "    <tr style=\"text-align: right;\">\n",
       "      <th></th>\n",
       "      <th>Total_Trans_Amt</th>\n",
       "      <th>Total_Trans_Ct</th>\n",
       "      <th>Total_Trans</th>\n",
       "    </tr>\n",
       "  </thead>\n",
       "  <tbody>\n",
       "    <tr>\n",
       "      <th>mode</th>\n",
       "      <td>4253.000000</td>\n",
       "      <td>81.000000</td>\n",
       "      <td>35154.0000</td>\n",
       "    </tr>\n",
       "    <tr>\n",
       "      <th>median</th>\n",
       "      <td>3899.000000</td>\n",
       "      <td>67.000000</td>\n",
       "      <td>268840.0000</td>\n",
       "    </tr>\n",
       "    <tr>\n",
       "      <th>mean</th>\n",
       "      <td>4404.086304</td>\n",
       "      <td>64.858695</td>\n",
       "      <td>350001.9055</td>\n",
       "    </tr>\n",
       "  </tbody>\n",
       "</table>\n",
       "</div>"
      ],
      "text/plain": [
       "        Total_Trans_Amt  Total_Trans_Ct  Total_Trans\n",
       "mode        4253.000000       81.000000   35154.0000\n",
       "median      3899.000000       67.000000  268840.0000\n",
       "mean        4404.086304       64.858695  350001.9055"
      ]
     },
     "execution_count": 320,
     "metadata": {},
     "output_type": "execute_result"
    }
   ],
   "source": [
    "# Membuat tabel modus\n",
    "mode = pd.DataFrame([datawork[['Total_Trans_Amt','Total_Trans_Ct','Total_Trans']].mode().iloc[0]])\n",
    "\n",
    "# Mengganti index pertama menjadi mode\n",
    "mode = mode.rename(index={0:'mode'})\n",
    "\n",
    "# Membuat tabel rata-rata\n",
    "mean = {'Total_Trans_Amt':[datawork['Total_Trans_Amt'].mean()],\n",
    "        'Total_Trans_Ct':[datawork['Total_Trans_Ct'].mean()],\n",
    "        'Total_Trans':[datawork['Total_Trans'].mean()]}\n",
    "mean = pd.DataFrame(mean)\n",
    "\n",
    "# Mengganti nama baris menjadi mean\n",
    "mean = mean.rename(index={0:'mean'})\n",
    "\n",
    "# Membuat tabel median\n",
    "median = {'Total_Trans_Amt':[datawork['Total_Trans_Amt'].median()],\n",
    "        'Total_Trans_Ct':[datawork['Total_Trans_Ct'].median()],\n",
    "        'Total_Trans':[datawork['Total_Trans'].median()]}\n",
    "median = pd.DataFrame(median)\n",
    "\n",
    "# Mengganti nama baris menjadi median\n",
    "median = median.rename(index={0:'median'})\n",
    "\n",
    "# Menggabungkan data dan menampilkannya\n",
    "basicStatTable = pd.concat([mode,median,mean],ignore_index=False)\n",
    "basicStatTable"
   ]
  },
  {
   "cell_type": "markdown",
   "metadata": {},
   "source": [
    "#### Pencarian Skewness dan Kurtosis"
   ]
  },
  {
   "cell_type": "code",
   "execution_count": 321,
   "metadata": {},
   "outputs": [
    {
     "name": "stdout",
     "output_type": "stream",
     "text": [
      "\n",
      "      skewness: 2.405768643379616\n",
      "      kurtosis:5.488915604300903\n"
     ]
    }
   ],
   "source": [
    "skewness = data['Total_Trans'].skew()\n",
    "kurtosis = data['Total_Trans'].kurtosis()\n",
    "print(\"\"\"\n",
    "      skewness: %s\n",
    "      kurtosis:%s\"\"\"%(skewness,kurtosis))"
   ]
  },
  {
   "cell_type": "markdown",
   "metadata": {},
   "source": [
    "#### Pembersihan Outlier"
   ]
  },
  {
   "cell_type": "code",
   "execution_count": 322,
   "metadata": {},
   "outputs": [
    {
     "data": {
      "text/html": [
       "<div>\n",
       "<style scoped>\n",
       "    .dataframe tbody tr th:only-of-type {\n",
       "        vertical-align: middle;\n",
       "    }\n",
       "\n",
       "    .dataframe tbody tr th {\n",
       "        vertical-align: top;\n",
       "    }\n",
       "\n",
       "    .dataframe thead th {\n",
       "        text-align: right;\n",
       "    }\n",
       "</style>\n",
       "<table border=\"1\" class=\"dataframe\">\n",
       "  <thead>\n",
       "    <tr style=\"text-align: right;\">\n",
       "      <th></th>\n",
       "      <th>Education_Level</th>\n",
       "      <th>Total_Trans</th>\n",
       "    </tr>\n",
       "  </thead>\n",
       "  <tbody>\n",
       "    <tr>\n",
       "      <th>4</th>\n",
       "      <td>Uneducated</td>\n",
       "      <td>22848</td>\n",
       "    </tr>\n",
       "    <tr>\n",
       "      <th>8</th>\n",
       "      <td>Uneducated</td>\n",
       "      <td>32400</td>\n",
       "    </tr>\n",
       "    <tr>\n",
       "      <th>10</th>\n",
       "      <td>Uneducated</td>\n",
       "      <td>50442</td>\n",
       "    </tr>\n",
       "    <tr>\n",
       "      <th>28</th>\n",
       "      <td>Uneducated</td>\n",
       "      <td>18936</td>\n",
       "    </tr>\n",
       "    <tr>\n",
       "      <th>31</th>\n",
       "      <td>Uneducated</td>\n",
       "      <td>41496</td>\n",
       "    </tr>\n",
       "    <tr>\n",
       "      <th>...</th>\n",
       "      <td>...</td>\n",
       "      <td>...</td>\n",
       "    </tr>\n",
       "    <tr>\n",
       "      <th>9996</th>\n",
       "      <td>Uneducated</td>\n",
       "      <td>777345</td>\n",
       "    </tr>\n",
       "    <tr>\n",
       "      <th>10006</th>\n",
       "      <td>Uneducated</td>\n",
       "      <td>774162</td>\n",
       "    </tr>\n",
       "    <tr>\n",
       "      <th>10050</th>\n",
       "      <td>Uneducated</td>\n",
       "      <td>608124</td>\n",
       "    </tr>\n",
       "    <tr>\n",
       "      <th>10067</th>\n",
       "      <td>Uneducated</td>\n",
       "      <td>660330</td>\n",
       "    </tr>\n",
       "    <tr>\n",
       "      <th>10119</th>\n",
       "      <td>Uneducated</td>\n",
       "      <td>318477</td>\n",
       "    </tr>\n",
       "  </tbody>\n",
       "</table>\n",
       "<p>1358 rows × 2 columns</p>\n",
       "</div>"
      ],
      "text/plain": [
       "      Education_Level  Total_Trans\n",
       "4          Uneducated        22848\n",
       "8          Uneducated        32400\n",
       "10         Uneducated        50442\n",
       "28         Uneducated        18936\n",
       "31         Uneducated        41496\n",
       "...               ...          ...\n",
       "9996       Uneducated       777345\n",
       "10006      Uneducated       774162\n",
       "10050      Uneducated       608124\n",
       "10067      Uneducated       660330\n",
       "10119      Uneducated       318477\n",
       "\n",
       "[1358 rows x 2 columns]"
      ]
     },
     "execution_count": 322,
     "metadata": {},
     "output_type": "execute_result"
    }
   ],
   "source": [
    "# Mengambil data quartil 1 dan 3\n",
    "q1 = data['Total_Trans'].quantile(0.25)\n",
    "q3 = data['Total_Trans'].quantile(0.75)\n",
    "iqr = q3-q1\n",
    "# Mencari lower Bound dan Upper Bound\n",
    "upperBound = q3 + 1.5*iqr\n",
    "lowerBound = q3 - 1.5*iqr\n",
    "\n",
    "databersih = data.query('Total_Trans > %s and Total_Trans < %s'%(lowerBound,upperBound))\n",
    "databersih"
   ]
  },
  {
   "cell_type": "markdown",
   "metadata": {},
   "source": [
    "#### Normal Test"
   ]
  },
  {
   "cell_type": "code",
   "execution_count": 323,
   "metadata": {},
   "outputs": [
    {
     "data": {
      "text/plain": [
       "3.4325147242022964e-32"
      ]
     },
     "execution_count": 323,
     "metadata": {},
     "output_type": "execute_result"
    }
   ],
   "source": [
    "stats.normaltest(databersih['Total_Trans']).pvalue"
   ]
  },
  {
   "cell_type": "markdown",
   "metadata": {},
   "source": [
    "p-value > 0.05 jadi datanya normal"
   ]
  },
  {
   "cell_type": "markdown",
   "metadata": {},
   "source": [
    "#### Pencarian Potensi Pengeluaran"
   ]
  },
  {
   "cell_type": "code",
   "execution_count": 324,
   "metadata": {},
   "outputs": [
    {
     "name": "stdout",
     "output_type": "stream",
     "text": [
      "\n",
      "      lowerBound pengeluaran: 237659\n",
      "      \n",
      "      upperBound pengeluaran: 256160\n",
      "      \n"
     ]
    }
   ],
   "source": [
    "std = databersih['Total_Trans'].std()\n",
    "N = len(databersih['Total_Trans'])\n",
    "lowerBound, upperBound = stats.norm.interval(0.95,loc=databersih['Total_Trans'].mean(),scale=std/np.sqrt(N))\n",
    "\n",
    "print(\"\"\"\n",
    "      lowerBound pengeluaran: %s\n",
    "      \n",
    "      upperBound pengeluaran: %s\n",
    "      \"\"\"%(\n",
    "          round(lowerBound), round(upperBound)\n",
    "          ))"
   ]
  },
  {
   "cell_type": "markdown",
   "metadata": {},
   "source": [
    "Potensi pengeluaran kreditor berkisar antara 237659 sampai 256160"
   ]
  },
  {
   "cell_type": "markdown",
   "metadata": {},
   "source": [
    "# Kesimpulan"
   ]
  },
  {
   "cell_type": "markdown",
   "metadata": {},
   "source": [
    "1. Banyak kreditor yang memiliki pendapatan lebih dari $120K ada 727 kreditor\n",
    "2. Kreditor yang memiliki pendapatan kurang dari $40K lebih banyak dibanding kreditor yang memiliki pendapatan $120K +\n",
    "3. Kreditor lebih banyak di tingkat pendidikan **Graduate** diikuti dengan **Lulusan SMA** dengan Pendapatan kurang dari $40K\n",
    "4. Puncak banyaknya transaksi tertinggi ada di antara umur 40 sampai 50 tahun dan banyaknya transaksi mengalami penurunan pada usia 50 tahun keatas\n",
    "5. Dalam satu tahun, ada setidaknya 1000+ kreditor yang menutup akunnya\n",
    "6. Banyaknya transaksi tidak ada hubungannya dengan gender\n",
    "7. Potensi pengeluaran kreditor berkisar antara 237659 sampai 256160"
   ]
  }
 ],
 "metadata": {
  "kernelspec": {
   "display_name": "base",
   "language": "python",
   "name": "python3"
  },
  "language_info": {
   "codemirror_mode": {
    "name": "ipython",
    "version": 3
   },
   "file_extension": ".py",
   "mimetype": "text/x-python",
   "name": "python",
   "nbconvert_exporter": "python",
   "pygments_lexer": "ipython3",
   "version": "3.11.4"
  }
 },
 "nbformat": 4,
 "nbformat_minor": 2
}
